{
 "cells": [
  {
   "cell_type": "code",
   "execution_count": null,
   "id": "77387347",
   "metadata": {},
   "outputs": [],
   "source": [
    "from matrix_filler import fill_matrix_with_constraints\n",
    "import numpy as np\n",
    "\n",
    "grid = np.array([\n",
    "    [2, np.nan,np.nan, 3.0],\n",
    "    [np.nan, 1, np.nan, np.nan],\n",
    "    [np.nan, np.nan, 4, np.nan],\n",
    "    [3, np.nan, np.nan, 1]\n",
    "])\n",
    "\n",
    "row_targets = np.array([10, 10, 10, 10])\n",
    "col_targets = np.array([10, 10, 10, 10])\n",
    "\n",
    "filled_grid, result = fill_matrix_with_constraints(grid, row_targets, col_targets,non_negative=True)\n",
    "\n",
    "print(filled_grid)\n",
    "print(result)"
   ]
  }
 ],
 "metadata": {
  "kernelspec": {
   "display_name": "Python 3",
   "language": "python",
   "name": "python3"
  },
  "language_info": {
   "codemirror_mode": {
    "name": "ipython",
    "version": 3
   },
   "file_extension": ".py",
   "mimetype": "text/x-python",
   "name": "python",
   "nbconvert_exporter": "python",
   "pygments_lexer": "ipython3",
   "version": "3.9.6"
  }
 },
 "nbformat": 4,
 "nbformat_minor": 5
}
