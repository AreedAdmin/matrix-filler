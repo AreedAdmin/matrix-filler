{
 "cells": [
  {
   "cell_type": "code",
   "execution_count": null,
   "id": "77387347",
   "metadata": {},
   "outputs": [
    {
     "name": "stdout",
     "output_type": "stream",
     "text": [
      "[[2.   3.25 1.75 3.  ]\n",
      " [3.25 1.   2.   3.75]\n",
      " [1.75 2.   4.   2.25]\n",
      " [3.   3.75 2.25 1.  ]]\n",
      "       message: The unconstrained solution is optimal.\n",
      "       success: True\n",
      "        status: 3\n",
      "           fun: [ 0.000e+00  1.776e-15  5.329e-15  6.217e-15  3.553e-15\n",
      "                  3.553e-15  5.329e-15  1.776e-15]\n",
      "             x: [ 3.250e+00  1.750e+00  3.250e+00  2.000e+00  3.750e+00\n",
      "                  1.750e+00  2.000e+00  2.250e+00  3.750e+00  2.250e+00]\n",
      "           nit: 0\n",
      "          cost: 6.350330287029145e-29\n",
      "    optimality: 1.1546319456101628e-14\n",
      "   active_mask: [ 0.000e+00  0.000e+00  0.000e+00  0.000e+00  0.000e+00\n",
      "                  0.000e+00  0.000e+00  0.000e+00  0.000e+00  0.000e+00]\n",
      " unbounded_sol: (array([ 3.250e+00,  1.750e+00,  3.250e+00,  2.000e+00,\n",
      "                        3.750e+00,  1.750e+00,  2.000e+00,  2.250e+00,\n",
      "                        3.750e+00,  2.250e+00]), array([], dtype=float64), 7, array([ 2.288e+00,  2.000e+00,  2.000e+00,  1.414e+00,\n",
      "                        1.414e+00,  1.414e+00,  8.740e-01,  1.379e-16]))\n"
     ]
    }
   ],
   "source": [
    "from matrix_filler import fill_matrix_with_constraints\n",
    "import numpy as np\n",
    "\n",
    "#Try any matrix you want\n",
    "grid = np.array([\n",
    "    [2, np.nan,np.nan, 3.0],\n",
    "    [np.nan, 1, np.nan, np.nan],\n",
    "    [np.nan, np.nan, 4, np.nan],\n",
    "    [3, np.nan, np.nan, 1]\n",
    "])\n",
    "\n",
    "#Try any row and column targets you want\n",
    "row_targets = np.array([10, 10, 10, 10])\n",
    "col_targets = np.array([10, 10, 10, 10])\n",
    "\n",
    "filled_grid, result = fill_matrix_with_constraints(grid, row_targets, col_targets,non_negative=True)\n",
    "\n",
    "print(filled_grid)\n",
    "print(result)"
   ]
  }
 ],
 "metadata": {
  "kernelspec": {
   "display_name": "Python 3",
   "language": "python",
   "name": "python3"
  },
  "language_info": {
   "codemirror_mode": {
    "name": "ipython",
    "version": 3
   },
   "file_extension": ".py",
   "mimetype": "text/x-python",
   "name": "python",
   "nbconvert_exporter": "python",
   "pygments_lexer": "ipython3",
   "version": "3.9.6"
  }
 },
 "nbformat": 4,
 "nbformat_minor": 5
}
